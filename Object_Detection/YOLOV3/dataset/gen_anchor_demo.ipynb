{
 "cells": [
  {
   "cell_type": "code",
   "execution_count": 1,
   "id": "af0abf3f-a68a-4e44-bb87-70a120435006",
   "metadata": {},
   "outputs": [],
   "source": [
    "import numpy as np\n",
    "import matplotlib.pyplot as plt\n",
    "\n",
    "from gen_anchors import AnnotParser, AnchorKmeans"
   ]
  },
  {
   "cell_type": "code",
   "execution_count": 2,
   "id": "e361a453-eac0-4fa0-b6dd-43da0eb302ac",
   "metadata": {},
   "outputs": [
    {
     "name": "stdout",
     "output_type": "stream",
     "text": [
      "Box num is: 15662\n"
     ]
    }
   ],
   "source": [
    "annot_dir = '../../data/VOCdevkit/VOC2007/Annotations/'\n",
    "parser = AnnotParser(file_type='xml')\n",
    "boxes = parser.parse(annot_dir=annot_dir)\n",
    "print(\"Box num is:\", len(boxes))"
   ]
  },
  {
   "cell_type": "code",
   "execution_count": 3,
   "id": "9b1e38fa-b983-4eca-97c7-58736821b54c",
   "metadata": {},
   "outputs": [
    {
     "name": "stdout",
     "output_type": "stream",
     "text": [
      "K = 2, Avg IOU = 0.4536\n",
      "K = 3, Avg IOU = 0.5271\n",
      "K = 4, Avg IOU = 0.5635\n",
      "K = 5, Avg IOU = 0.5868\n",
      "K = 6, Avg IOU = 0.6090\n",
      "K = 7, Avg IOU = 0.6282\n",
      "K = 8, Avg IOU = 0.6464\n",
      "K = 9, Avg IOU = 0.6595\n",
      "K = 10, Avg IOU = 0.6714\n",
      "K = 11, Avg IOU = 0.6808\n",
      "K = 12, Avg IOU = 0.6904\n",
      "K = 13, Avg IOU = 0.7011\n",
      "K = 14, Avg IOU = 0.7087\n",
      "K = 15, Avg IOU = 0.7163\n"
     ]
    }
   ],
   "source": [
    "results = {}\n",
    "for k in range(2, 16):\n",
    "    model = AnchorKmeans(k=k, random_seed=26)\n",
    "    model.fit(boxes)\n",
    "    avg_iou = model.avg_iou()\n",
    "    results[k] = {\n",
    "        'anchors': model.anchors_,\n",
    "        'avg_iou': avg_iou\n",
    "    }\n",
    "    print(\"K = {}, Avg IOU = {:.4f}\".format(k, avg_iou))"
   ]
  },
  {
   "cell_type": "code",
   "execution_count": 4,
   "id": "8190ea5c-f475-4619-8b1c-ebcb463b22c8",
   "metadata": {},
   "outputs": [
    {
     "data": {
      "image/png": "[encoded data removed]",
      "text/plain": [
       "<Figure size 432x288 with 1 Axes>"
      ]
     },
     "metadata": {
      "needs_background": "light"
     },
     "output_type": "display_data"
    }
   ],
   "source": [
    "plt.figure()\n",
    "plt.plot(range(2, 16), [results[k]['avg_iou'] for k in range(2, 16)], 'o-')\n",
    "plt.grid()\n",
    "plt.ylabel('Avg IOU')\n",
    "plt.xlabel('# Clusters')\n",
    "plt.show()"
   ]
  },
  {
   "cell_type": "code",
   "execution_count": 5,
   "id": "efb42644-480e-4f6e-b749-8f3d6616c977",
   "metadata": {},
   "outputs": [
    {
     "name": "stdout",
     "output_type": "stream",
     "text": [
      "[[ 77  71]\n",
      " [293 185]\n",
      " [148 129]\n",
      " [ 38 115]\n",
      " [364 344]\n",
      " [ 76 195]\n",
      " [ 25  40]\n",
      " [132 274]\n",
      " [220 328]]\n"
     ]
    }
   ],
   "source": [
    "anchors = results[9]['anchors']\n",
    "print(np.around(anchors * 416).astype(np.int32))"
   ]
  },
  {
   "cell_type": "code",
   "execution_count": 6,
   "id": "59f869e2-1e66-4978-9444-5d49a13a2a11",
   "metadata": {},
   "outputs": [
    {
     "data": {
      "image/png": "[encoded data removed]",
      "text/plain": [
       "<Figure size 576x432 with 1 Axes>"
      ]
     },
     "metadata": {
      "needs_background": "light"
     },
     "output_type": "display_data"
    }
   ],
   "source": [
    "w_img, h_img = 416, 416\n",
    "\n",
    "anchors[:, 0] *= w_img\n",
    "anchors[:, 1] *= h_img\n",
    "anchors = np.round(anchors).astype(np.int32)\n",
    "\n",
    "rects = np.empty((9, 4), dtype=np.int32)\n",
    "for i in range(len(anchors)):\n",
    "    w, h = anchors[i]\n",
    "    x1, y1 = -(w // 2), -(h // 2)\n",
    "    rects[i] = [x1, y1, w, h]\n",
    "\n",
    "fig = plt.figure(figsize=(8, 6))\n",
    "ax = fig.add_subplot(111)\n",
    "for rect in rects:\n",
    "    x1, y1, w, h = rect\n",
    "    rect1 = plt.Rectangle((x1, y1), w, h, color='b', fill=False)\n",
    "    ax.add_patch(rect1)\n",
    "plt.grid()\n",
    "plt.xlim([-(w_img // 2), w_img // 2])\n",
    "plt.ylim([-(h_img // 2), h_img // 2])\n",
    "\n",
    "plt.show()"
   ]
  },
  {
   "cell_type": "code",
   "execution_count": null,
   "id": "379d05d2-59b8-4524-8a9b-abe4e1f6dc3a",
   "metadata": {},
   "outputs": [],
   "source": []
  }
 ],
 "metadata": {
  "kernelspec": {
   "display_name": "Python 3 (ipykernel)",
   "language": "python",
   "name": "python3"
  },
  "language_info": {
   "codemirror_mode": {
    "name": "ipython",
    "version": 3
   },
   "file_extension": ".py",
   "mimetype": "text/x-python",
   "name": "python",
   "nbconvert_exporter": "python",
   "pygments_lexer": "ipython3",
   "version": "3.7.11"
  }
 },
 "nbformat": 4,
 "nbformat_minor": 5
}
